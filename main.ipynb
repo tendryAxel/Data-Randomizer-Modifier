{
 "cells": [
  {
   "cell_type": "code",
   "id": "initial_id",
   "metadata": {
    "collapsed": true,
    "ExecuteTime": {
     "end_time": "2025-09-06T18:16:34.153829Z",
     "start_time": "2025-09-06T18:16:33.717549Z"
    }
   },
   "source": [
    "import dotenv\n",
    "\n",
    "from modifier import Modifier, default_faker\n",
    "from sql import load_table, dataframe_to_pg_bulk_update"
   ],
   "outputs": [],
   "execution_count": 1
  },
  {
   "metadata": {
    "ExecuteTime": {
     "end_time": "2025-09-06T18:16:34.167084Z",
     "start_time": "2025-09-06T18:16:34.160911Z"
    }
   },
   "cell_type": "code",
   "source": "dotenv.load_dotenv()",
   "id": "4ce6383824a1c2b6",
   "outputs": [
    {
     "data": {
      "text/plain": [
       "True"
      ]
     },
     "execution_count": 2,
     "metadata": {},
     "output_type": "execute_result"
    }
   ],
   "execution_count": 2
  },
  {
   "metadata": {},
   "cell_type": "markdown",
   "source": "# Load data",
   "id": "a3a583e674f332e"
  },
  {
   "metadata": {
    "ExecuteTime": {
     "end_time": "2025-09-06T18:16:34.229663Z",
     "start_time": "2025-09-06T18:16:34.214905Z"
    }
   },
   "cell_type": "code",
   "source": [
    "user = load_table(\"user\")\n",
    "user.describe()"
   ],
   "id": "aabf2aadb0fe91be",
   "outputs": [
    {
     "data": {
      "text/plain": [
       "         id     ref first_name last_name\n",
       "count     2       2          2         2\n",
       "unique    2       2          2         2\n",
       "top     123  STD123       axel    rakoto\n",
       "freq      1       1          1         1"
      ],
      "text/html": [
       "<div>\n",
       "<style scoped>\n",
       "    .dataframe tbody tr th:only-of-type {\n",
       "        vertical-align: middle;\n",
       "    }\n",
       "\n",
       "    .dataframe tbody tr th {\n",
       "        vertical-align: top;\n",
       "    }\n",
       "\n",
       "    .dataframe thead th {\n",
       "        text-align: right;\n",
       "    }\n",
       "</style>\n",
       "<table border=\"1\" class=\"dataframe\">\n",
       "  <thead>\n",
       "    <tr style=\"text-align: right;\">\n",
       "      <th></th>\n",
       "      <th>id</th>\n",
       "      <th>ref</th>\n",
       "      <th>first_name</th>\n",
       "      <th>last_name</th>\n",
       "    </tr>\n",
       "  </thead>\n",
       "  <tbody>\n",
       "    <tr>\n",
       "      <th>count</th>\n",
       "      <td>2</td>\n",
       "      <td>2</td>\n",
       "      <td>2</td>\n",
       "      <td>2</td>\n",
       "    </tr>\n",
       "    <tr>\n",
       "      <th>unique</th>\n",
       "      <td>2</td>\n",
       "      <td>2</td>\n",
       "      <td>2</td>\n",
       "      <td>2</td>\n",
       "    </tr>\n",
       "    <tr>\n",
       "      <th>top</th>\n",
       "      <td>123</td>\n",
       "      <td>STD123</td>\n",
       "      <td>axel</td>\n",
       "      <td>rakoto</td>\n",
       "    </tr>\n",
       "    <tr>\n",
       "      <th>freq</th>\n",
       "      <td>1</td>\n",
       "      <td>1</td>\n",
       "      <td>1</td>\n",
       "      <td>1</td>\n",
       "    </tr>\n",
       "  </tbody>\n",
       "</table>\n",
       "</div>"
      ]
     },
     "execution_count": 3,
     "metadata": {},
     "output_type": "execute_result"
    }
   ],
   "execution_count": 3
  },
  {
   "metadata": {},
   "cell_type": "markdown",
   "source": "# Process data",
   "id": "5594c4d98218b209"
  },
  {
   "metadata": {},
   "cell_type": "markdown",
   "source": [
    "## how to use ?\n",
    "In short\n",
    "- just chain all the operations\n",
    "- get the result at the end"
   ],
   "id": "c6cb15ac5818a054"
  },
  {
   "metadata": {
    "ExecuteTime": {
     "end_time": "2025-09-06T18:16:34.319285Z",
     "start_time": "2025-09-06T18:16:34.317040Z"
    }
   },
   "cell_type": "code",
   "source": [
    "def random_std() -> str:\n",
    "    random_number = default_faker.random_number(5, True)\n",
    "    return f\"STD{random_number}\""
   ],
   "id": "c0b2c49533fefd79",
   "outputs": [],
   "execution_count": 4
  },
  {
   "metadata": {
    "ExecuteTime": {
     "end_time": "2025-09-06T18:16:34.470739Z",
     "start_time": "2025-09-06T18:16:34.463536Z"
    }
   },
   "cell_type": "code",
   "source": "Modifier(user).randomize_first_name(\"first_name\").randomize_last_name(\"last_name\").apply_function(\"ref\", random_std).result()",
   "id": "b111984d06a2483f",
   "outputs": [
    {
     "data": {
      "text/plain": [
       "    id       ref first_name last_name\n",
       "0  123  STD40575      Allen     Poole\n",
       "1  321  STD88198       John    Garcia"
      ],
      "text/html": [
       "<div>\n",
       "<style scoped>\n",
       "    .dataframe tbody tr th:only-of-type {\n",
       "        vertical-align: middle;\n",
       "    }\n",
       "\n",
       "    .dataframe tbody tr th {\n",
       "        vertical-align: top;\n",
       "    }\n",
       "\n",
       "    .dataframe thead th {\n",
       "        text-align: right;\n",
       "    }\n",
       "</style>\n",
       "<table border=\"1\" class=\"dataframe\">\n",
       "  <thead>\n",
       "    <tr style=\"text-align: right;\">\n",
       "      <th></th>\n",
       "      <th>id</th>\n",
       "      <th>ref</th>\n",
       "      <th>first_name</th>\n",
       "      <th>last_name</th>\n",
       "    </tr>\n",
       "  </thead>\n",
       "  <tbody>\n",
       "    <tr>\n",
       "      <th>0</th>\n",
       "      <td>123</td>\n",
       "      <td>STD40575</td>\n",
       "      <td>Allen</td>\n",
       "      <td>Poole</td>\n",
       "    </tr>\n",
       "    <tr>\n",
       "      <th>1</th>\n",
       "      <td>321</td>\n",
       "      <td>STD88198</td>\n",
       "      <td>John</td>\n",
       "      <td>Garcia</td>\n",
       "    </tr>\n",
       "  </tbody>\n",
       "</table>\n",
       "</div>"
      ]
     },
     "execution_count": 5,
     "metadata": {},
     "output_type": "execute_result"
    }
   ],
   "execution_count": 5
  },
  {
   "metadata": {},
   "cell_type": "markdown",
   "source": "# Create sql",
   "id": "29f7607414e8932c"
  },
  {
   "metadata": {
    "ExecuteTime": {
     "end_time": "2025-09-06T18:16:34.587169Z",
     "start_time": "2025-09-06T18:16:34.584558Z"
    }
   },
   "cell_type": "code",
   "source": "sql = dataframe_to_pg_bulk_update(user, \"user\", \"id\")",
   "id": "20a69ec0031716bb",
   "outputs": [],
   "execution_count": 6
  },
  {
   "metadata": {
    "ExecuteTime": {
     "end_time": "2025-09-06T18:16:42.157219Z",
     "start_time": "2025-09-06T18:16:42.154825Z"
    }
   },
   "cell_type": "code",
   "source": "print(sql)",
   "id": "8631f68263d49f86",
   "outputs": [
    {
     "name": "stdout",
     "output_type": "stream",
     "text": [
      "UPDATE user\n",
      "SET\n",
      "    ref = data.ref,\n",
      "    first_name = data.first_name,\n",
      "    last_name = data.last_name\n",
      "FROM (\n",
      "    VALUES \n",
      "    ('123', 'STD40575', 'Allen', 'Poole'),\n",
      "    ('321', 'STD88198', 'John', 'Garcia')\n",
      ") AS data(id, ref, first_name, last_name)\n",
      "WHERE user.id = data.id;\n"
     ]
    }
   ],
   "execution_count": 8
  }
 ],
 "metadata": {
  "kernelspec": {
   "display_name": "Python 3",
   "language": "python",
   "name": "python3"
  },
  "language_info": {
   "codemirror_mode": {
    "name": "ipython",
    "version": 2
   },
   "file_extension": ".py",
   "mimetype": "text/x-python",
   "name": "python",
   "nbconvert_exporter": "python",
   "pygments_lexer": "ipython2",
   "version": "2.7.6"
  }
 },
 "nbformat": 4,
 "nbformat_minor": 5
}

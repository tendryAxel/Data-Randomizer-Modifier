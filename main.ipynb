{
 "cells": [
  {
   "cell_type": "code",
   "id": "initial_id",
   "metadata": {
    "collapsed": true,
    "ExecuteTime": {
     "end_time": "2025-09-06T18:37:13.218649Z",
     "start_time": "2025-09-06T18:37:12.820577Z"
    }
   },
   "source": [
    "import dotenv\n",
    "\n",
    "from modifier import Modifier, default_faker\n",
    "from sql import load_table, dataframe_to_pg_bulk_update"
   ],
   "outputs": [],
   "execution_count": 1
  },
  {
   "metadata": {
    "ExecuteTime": {
     "end_time": "2025-09-06T18:37:13.231219Z",
     "start_time": "2025-09-06T18:37:13.225065Z"
    }
   },
   "cell_type": "code",
   "source": "dotenv.load_dotenv()",
   "id": "4ce6383824a1c2b6",
   "outputs": [
    {
     "data": {
      "text/plain": [
       "True"
      ]
     },
     "execution_count": 2,
     "metadata": {},
     "output_type": "execute_result"
    }
   ],
   "execution_count": 2
  },
  {
   "metadata": {},
   "cell_type": "markdown",
   "source": "# Load data",
   "id": "a3a583e674f332e"
  },
  {
   "metadata": {
    "ExecuteTime": {
     "end_time": "2025-09-06T18:37:13.290820Z",
     "start_time": "2025-09-06T18:37:13.277186Z"
    }
   },
   "cell_type": "code",
   "source": [
    "user = load_table(\"user\")\n",
    "user.describe()"
   ],
   "id": "aabf2aadb0fe91be",
   "outputs": [
    {
     "data": {
      "text/plain": [
       "             age\n",
       "count   2.000000\n",
       "mean   32.500000\n",
       "std    28.991378\n",
       "min    12.000000\n",
       "25%    22.250000\n",
       "50%    32.500000\n",
       "75%    42.750000\n",
       "max    53.000000"
      ],
      "text/html": [
       "<div>\n",
       "<style scoped>\n",
       "    .dataframe tbody tr th:only-of-type {\n",
       "        vertical-align: middle;\n",
       "    }\n",
       "\n",
       "    .dataframe tbody tr th {\n",
       "        vertical-align: top;\n",
       "    }\n",
       "\n",
       "    .dataframe thead th {\n",
       "        text-align: right;\n",
       "    }\n",
       "</style>\n",
       "<table border=\"1\" class=\"dataframe\">\n",
       "  <thead>\n",
       "    <tr style=\"text-align: right;\">\n",
       "      <th></th>\n",
       "      <th>age</th>\n",
       "    </tr>\n",
       "  </thead>\n",
       "  <tbody>\n",
       "    <tr>\n",
       "      <th>count</th>\n",
       "      <td>2.000000</td>\n",
       "    </tr>\n",
       "    <tr>\n",
       "      <th>mean</th>\n",
       "      <td>32.500000</td>\n",
       "    </tr>\n",
       "    <tr>\n",
       "      <th>std</th>\n",
       "      <td>28.991378</td>\n",
       "    </tr>\n",
       "    <tr>\n",
       "      <th>min</th>\n",
       "      <td>12.000000</td>\n",
       "    </tr>\n",
       "    <tr>\n",
       "      <th>25%</th>\n",
       "      <td>22.250000</td>\n",
       "    </tr>\n",
       "    <tr>\n",
       "      <th>50%</th>\n",
       "      <td>32.500000</td>\n",
       "    </tr>\n",
       "    <tr>\n",
       "      <th>75%</th>\n",
       "      <td>42.750000</td>\n",
       "    </tr>\n",
       "    <tr>\n",
       "      <th>max</th>\n",
       "      <td>53.000000</td>\n",
       "    </tr>\n",
       "  </tbody>\n",
       "</table>\n",
       "</div>"
      ]
     },
     "execution_count": 3,
     "metadata": {},
     "output_type": "execute_result"
    }
   ],
   "execution_count": 3
  },
  {
   "metadata": {},
   "cell_type": "markdown",
   "source": "# Process data",
   "id": "5594c4d98218b209"
  },
  {
   "metadata": {},
   "cell_type": "markdown",
   "source": [
    "## how to use ?\n",
    "In short\n",
    "- just chain all the operations\n",
    "- get the result at the end"
   ],
   "id": "c6cb15ac5818a054"
  },
  {
   "metadata": {
    "ExecuteTime": {
     "end_time": "2025-09-06T18:37:13.379610Z",
     "start_time": "2025-09-06T18:37:13.376960Z"
    }
   },
   "cell_type": "code",
   "source": [
    "def random_std() -> str:\n",
    "    random_number = default_faker.random_number(5, True)\n",
    "    return f\"STD{random_number}\""
   ],
   "id": "c0b2c49533fefd79",
   "outputs": [],
   "execution_count": 4
  },
  {
   "metadata": {
    "ExecuteTime": {
     "end_time": "2025-09-06T18:37:13.557116Z",
     "start_time": "2025-09-06T18:37:13.547057Z"
    }
   },
   "cell_type": "code",
   "source": "Modifier(user).randomize_first_name(\"first_name\").randomize_last_name(\"last_name\").apply_function(\"ref\", random_std).result()",
   "id": "b111984d06a2483f",
   "outputs": [
    {
     "data": {
      "text/plain": [
       "    id       ref first_name  last_name  age\n",
       "0  123  STD20240      Glenn  Middleton   12\n",
       "1  321  STD18909       Lisa     Walker   53"
      ],
      "text/html": [
       "<div>\n",
       "<style scoped>\n",
       "    .dataframe tbody tr th:only-of-type {\n",
       "        vertical-align: middle;\n",
       "    }\n",
       "\n",
       "    .dataframe tbody tr th {\n",
       "        vertical-align: top;\n",
       "    }\n",
       "\n",
       "    .dataframe thead th {\n",
       "        text-align: right;\n",
       "    }\n",
       "</style>\n",
       "<table border=\"1\" class=\"dataframe\">\n",
       "  <thead>\n",
       "    <tr style=\"text-align: right;\">\n",
       "      <th></th>\n",
       "      <th>id</th>\n",
       "      <th>ref</th>\n",
       "      <th>first_name</th>\n",
       "      <th>last_name</th>\n",
       "      <th>age</th>\n",
       "    </tr>\n",
       "  </thead>\n",
       "  <tbody>\n",
       "    <tr>\n",
       "      <th>0</th>\n",
       "      <td>123</td>\n",
       "      <td>STD20240</td>\n",
       "      <td>Glenn</td>\n",
       "      <td>Middleton</td>\n",
       "      <td>12</td>\n",
       "    </tr>\n",
       "    <tr>\n",
       "      <th>1</th>\n",
       "      <td>321</td>\n",
       "      <td>STD18909</td>\n",
       "      <td>Lisa</td>\n",
       "      <td>Walker</td>\n",
       "      <td>53</td>\n",
       "    </tr>\n",
       "  </tbody>\n",
       "</table>\n",
       "</div>"
      ]
     },
     "execution_count": 5,
     "metadata": {},
     "output_type": "execute_result"
    }
   ],
   "execution_count": 5
  },
  {
   "metadata": {},
   "cell_type": "markdown",
   "source": "# Create sql",
   "id": "29f7607414e8932c"
  },
  {
   "metadata": {
    "ExecuteTime": {
     "end_time": "2025-09-06T18:37:13.678713Z",
     "start_time": "2025-09-06T18:37:13.675785Z"
    }
   },
   "cell_type": "code",
   "source": "sql = dataframe_to_pg_bulk_update(user, \"user\", \"id\")",
   "id": "20a69ec0031716bb",
   "outputs": [],
   "execution_count": 6
  },
  {
   "metadata": {
    "ExecuteTime": {
     "end_time": "2025-09-06T18:37:13.802472Z",
     "start_time": "2025-09-06T18:37:13.799975Z"
    }
   },
   "cell_type": "code",
   "source": "print(sql)",
   "id": "8631f68263d49f86",
   "outputs": [
    {
     "name": "stdout",
     "output_type": "stream",
     "text": [
      "UPDATE user\n",
      "SET\n",
      "    ref = data.ref,\n",
      "    first_name = data.first_name,\n",
      "    last_name = data.last_name,\n",
      "    age = data.age\n",
      "FROM (\n",
      "    VALUES \n",
      "    ('123', 'STD20240', 'Glenn', 'Middleton', 12),\n",
      "    ('321', 'STD18909', 'Lisa', 'Walker', 53)\n",
      ") AS data(id, ref, first_name, last_name, age)\n",
      "WHERE user.id = data.id;\n"
     ]
    }
   ],
   "execution_count": 7
  }
 ],
 "metadata": {
  "kernelspec": {
   "display_name": "Python 3",
   "language": "python",
   "name": "python3"
  },
  "language_info": {
   "codemirror_mode": {
    "name": "ipython",
    "version": 2
   },
   "file_extension": ".py",
   "mimetype": "text/x-python",
   "name": "python",
   "nbconvert_exporter": "python",
   "pygments_lexer": "ipython2",
   "version": "2.7.6"
  }
 },
 "nbformat": 4,
 "nbformat_minor": 5
}

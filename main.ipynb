{
 "cells": [
  {
   "cell_type": "code",
   "id": "initial_id",
   "metadata": {
    "collapsed": true,
    "ExecuteTime": {
     "end_time": "2025-09-06T17:57:46.742454Z",
     "start_time": "2025-09-06T17:57:46.305172Z"
    }
   },
   "source": [
    "import dotenv\n",
    "\n",
    "from modifier import Modifier, default_faker\n",
    "from sql import load_table"
   ],
   "outputs": [],
   "execution_count": 1
  },
  {
   "metadata": {
    "ExecuteTime": {
     "end_time": "2025-09-06T17:57:46.755619Z",
     "start_time": "2025-09-06T17:57:46.749441Z"
    }
   },
   "cell_type": "code",
   "source": "dotenv.load_dotenv()",
   "id": "4ce6383824a1c2b6",
   "outputs": [
    {
     "data": {
      "text/plain": [
       "True"
      ]
     },
     "execution_count": 2,
     "metadata": {},
     "output_type": "execute_result"
    }
   ],
   "execution_count": 2
  },
  {
   "metadata": {},
   "cell_type": "markdown",
   "source": "# Load data",
   "id": "a3a583e674f332e"
  },
  {
   "metadata": {
    "ExecuteTime": {
     "end_time": "2025-09-06T17:57:46.817768Z",
     "start_time": "2025-09-06T17:57:46.802267Z"
    }
   },
   "cell_type": "code",
   "source": [
    "user = load_table(\"user\")\n",
    "user.describe()"
   ],
   "id": "aabf2aadb0fe91be",
   "outputs": [
    {
     "data": {
      "text/plain": [
       "         id     ref first_name last_name\n",
       "count     2       2          2         2\n",
       "unique    2       2          2         2\n",
       "top     123  STD123       axel    rakoto\n",
       "freq      1       1          1         1"
      ],
      "text/html": [
       "<div>\n",
       "<style scoped>\n",
       "    .dataframe tbody tr th:only-of-type {\n",
       "        vertical-align: middle;\n",
       "    }\n",
       "\n",
       "    .dataframe tbody tr th {\n",
       "        vertical-align: top;\n",
       "    }\n",
       "\n",
       "    .dataframe thead th {\n",
       "        text-align: right;\n",
       "    }\n",
       "</style>\n",
       "<table border=\"1\" class=\"dataframe\">\n",
       "  <thead>\n",
       "    <tr style=\"text-align: right;\">\n",
       "      <th></th>\n",
       "      <th>id</th>\n",
       "      <th>ref</th>\n",
       "      <th>first_name</th>\n",
       "      <th>last_name</th>\n",
       "    </tr>\n",
       "  </thead>\n",
       "  <tbody>\n",
       "    <tr>\n",
       "      <th>count</th>\n",
       "      <td>2</td>\n",
       "      <td>2</td>\n",
       "      <td>2</td>\n",
       "      <td>2</td>\n",
       "    </tr>\n",
       "    <tr>\n",
       "      <th>unique</th>\n",
       "      <td>2</td>\n",
       "      <td>2</td>\n",
       "      <td>2</td>\n",
       "      <td>2</td>\n",
       "    </tr>\n",
       "    <tr>\n",
       "      <th>top</th>\n",
       "      <td>123</td>\n",
       "      <td>STD123</td>\n",
       "      <td>axel</td>\n",
       "      <td>rakoto</td>\n",
       "    </tr>\n",
       "    <tr>\n",
       "      <th>freq</th>\n",
       "      <td>1</td>\n",
       "      <td>1</td>\n",
       "      <td>1</td>\n",
       "      <td>1</td>\n",
       "    </tr>\n",
       "  </tbody>\n",
       "</table>\n",
       "</div>"
      ]
     },
     "execution_count": 3,
     "metadata": {},
     "output_type": "execute_result"
    }
   ],
   "execution_count": 3
  },
  {
   "metadata": {},
   "cell_type": "markdown",
   "source": "# Process data",
   "id": "5594c4d98218b209"
  },
  {
   "metadata": {},
   "cell_type": "markdown",
   "source": [
    "## how to use ?\n",
    "In short\n",
    "- just chain all the operations\n",
    "- get the result at the end"
   ],
   "id": "c6cb15ac5818a054"
  },
  {
   "metadata": {
    "ExecuteTime": {
     "end_time": "2025-09-06T17:57:46.930406Z",
     "start_time": "2025-09-06T17:57:46.928163Z"
    }
   },
   "cell_type": "code",
   "source": [
    "def random_std() -> str:\n",
    "    random_number = default_faker.random_number(5, True)\n",
    "    return f\"STD{random_number}\""
   ],
   "id": "c0b2c49533fefd79",
   "outputs": [],
   "execution_count": 4
  },
  {
   "metadata": {
    "ExecuteTime": {
     "end_time": "2025-09-06T17:57:47.158781Z",
     "start_time": "2025-09-06T17:57:47.152306Z"
    }
   },
   "cell_type": "code",
   "source": "Modifier(user).randomize_first_name(\"first_name\").randomize_last_name(\"last_name\").apply_function(\"ref\", random_std).result()",
   "id": "b111984d06a2483f",
   "outputs": [
    {
     "data": {
      "text/plain": [
       "    id       ref first_name last_name\n",
       "0  123  STD66668    Gregory      Ford\n",
       "1  321  STD85748     Rhonda      Rice"
      ],
      "text/html": [
       "<div>\n",
       "<style scoped>\n",
       "    .dataframe tbody tr th:only-of-type {\n",
       "        vertical-align: middle;\n",
       "    }\n",
       "\n",
       "    .dataframe tbody tr th {\n",
       "        vertical-align: top;\n",
       "    }\n",
       "\n",
       "    .dataframe thead th {\n",
       "        text-align: right;\n",
       "    }\n",
       "</style>\n",
       "<table border=\"1\" class=\"dataframe\">\n",
       "  <thead>\n",
       "    <tr style=\"text-align: right;\">\n",
       "      <th></th>\n",
       "      <th>id</th>\n",
       "      <th>ref</th>\n",
       "      <th>first_name</th>\n",
       "      <th>last_name</th>\n",
       "    </tr>\n",
       "  </thead>\n",
       "  <tbody>\n",
       "    <tr>\n",
       "      <th>0</th>\n",
       "      <td>123</td>\n",
       "      <td>STD66668</td>\n",
       "      <td>Gregory</td>\n",
       "      <td>Ford</td>\n",
       "    </tr>\n",
       "    <tr>\n",
       "      <th>1</th>\n",
       "      <td>321</td>\n",
       "      <td>STD85748</td>\n",
       "      <td>Rhonda</td>\n",
       "      <td>Rice</td>\n",
       "    </tr>\n",
       "  </tbody>\n",
       "</table>\n",
       "</div>"
      ]
     },
     "execution_count": 5,
     "metadata": {},
     "output_type": "execute_result"
    }
   ],
   "execution_count": 5
  }
 ],
 "metadata": {
  "kernelspec": {
   "display_name": "Python 3",
   "language": "python",
   "name": "python3"
  },
  "language_info": {
   "codemirror_mode": {
    "name": "ipython",
    "version": 2
   },
   "file_extension": ".py",
   "mimetype": "text/x-python",
   "name": "python",
   "nbconvert_exporter": "python",
   "pygments_lexer": "ipython2",
   "version": "2.7.6"
  }
 },
 "nbformat": 4,
 "nbformat_minor": 5
}
